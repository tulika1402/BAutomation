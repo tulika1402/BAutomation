{
 "cells": [
  {
   "cell_type": "code",
   "execution_count": 3,
   "id": "a0d1e342",
   "metadata": {},
   "outputs": [],
   "source": [
    "import pdfplumber\n",
    "import pandas as pd\n",
    "\n",
    "\n",
    "pdf_file_path = \"C://Users/91947/Downloads/5608119616.pdf\"\n",
    "\n",
    "# Open the PDF file\n",
    "with pdfplumber.open(pdf_file_path) as pdf:\n",
    "    # Extract text from the first page\n",
    "    first_page_text = pdf.pages[0].extract_text()\n",
    "\n",
    "    # Extract tables from the first page\n",
    "    tables = pdf.pages[0].extract_tables()\n",
    "\n",
    "    if tables:\n",
    "        # Assuming your PDF contains structured tables, extract the first table\n",
    "        first_table = tables[0]\n",
    "\n",
    "      "
   ]
  },
  {
   "cell_type": "code",
   "execution_count": 4,
   "id": "40629db0",
   "metadata": {},
   "outputs": [
    {
     "data": {
      "text/plain": [
       "[['Particulars',\n",
       "  'Qty',\n",
       "  'Unit Price',\n",
       "  'Gross\\nAmount(BHD)',\n",
       "  'Vat\\n%',\n",
       "  'Vat BHD',\n",
       "  'Total\\nAmount(BHD)'],\n",
       " ['Sub : Landscapes Maintenance\\n(Farouk Garden)\\n================================\\nMonthly Charges : BHD345/-\\n================================\\nTowards Charges For The Month\\nof July-2023',\n",
       "  '',\n",
       "  '345.000',\n",
       "  '345.000',\n",
       "  '10',\n",
       "  '34.500',\n",
       "  '379.500']]"
      ]
     },
     "execution_count": 4,
     "metadata": {},
     "output_type": "execute_result"
    }
   ],
   "source": [
    "first_table "
   ]
  },
  {
   "cell_type": "code",
   "execution_count": 11,
   "id": "57eee95c",
   "metadata": {},
   "outputs": [
    {
     "name": "stdout",
     "output_type": "stream",
     "text": [
      "                                         Particulars Qty Unit Price  \\\n",
      "0  Sub : Landscapes Maintenance\\n(Farouk Garden)\\...        345.000   \n",
      "\n",
      "  Gross\\nAmount(BHD) Vat\\n% Vat BHD Total\\nAmount(BHD)  \n",
      "0            345.000     10  34.500            379.500  \n"
     ]
    }
   ],
   "source": [
    "  # Convert the extracted table into a DataFrame\n",
    "df = pd.DataFrame(first_table[1:], columns=first_table[0])\n",
    "\n",
    "        # Print the DataFrame\n",
    "print(df)\n",
    "    \n"
   ]
  },
  {
   "cell_type": "code",
   "execution_count": null,
   "id": "8f8bbee8",
   "metadata": {},
   "outputs": [],
   "source": []
  }
 ],
 "metadata": {
  "kernelspec": {
   "display_name": "Python 3 (ipykernel)",
   "language": "python",
   "name": "python3"
  },
  "language_info": {
   "codemirror_mode": {
    "name": "ipython",
    "version": 3
   },
   "file_extension": ".py",
   "mimetype": "text/x-python",
   "name": "python",
   "nbconvert_exporter": "python",
   "pygments_lexer": "ipython3",
   "version": "3.11.4"
  }
 },
 "nbformat": 4,
 "nbformat_minor": 5
}
