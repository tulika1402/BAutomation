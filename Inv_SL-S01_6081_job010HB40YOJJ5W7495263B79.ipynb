{
 "cells": [
  {
   "cell_type": "code",
   "execution_count": 67,
   "id": "19a59de4",
   "metadata": {},
   "outputs": [],
   "source": [
    "import pdfplumber\n",
    "import pandas as pd\n",
    "\n",
    "\n",
    "pdf_file_path = \"C://Users/91947/Downloads/Inv_SL-S01_6081_job010HB40YOJJ5W7495263B79.dat.pdf\"\n",
    "\n",
    "# Open the PDF file\n",
    "with pdfplumber.open(pdf_file_path) as pdf:\n",
    "    # Extract text from the first page\n",
    "    text = pdf.pages[0].extract_text()\n",
    "\n",
    "    # Extract tables from the first page\n",
    "    #tables = pdf.pages[0].extract_tables()\n"
   ]
  },
  {
   "cell_type": "code",
   "execution_count": 68,
   "id": "3a08aa64",
   "metadata": {},
   "outputs": [
    {
     "data": {
      "text/plain": [
       "\"almoayyed@almoayyed.com\\nalmoayyed@almoayyed.com\\n+ 973 17211211\\n+ 973 17211211\\nTAX INVOICE\\nCUSTOMER DETAILS DOCUMENT DETAILS\\nYOUSUF KHALIL ALMOAYYED & SONS PROPERTIES CO. W.L.Doc No 6081\\nFlat/Shop No. Flat 11, Building: 3,\\nRoad/Street: 401, Date 31/08/23\\nManama Center\\nBlock: 304, Account K0040330\\nKingdom of Bahrain\\nVAT No: 200011241300002\\nDESCRIPTION QTY UNIT PRICE NET AMOUNT V V% VAT AMOUNT TOTAL AMOUNT\\n1 102.000 102.000 10 10.200 112.200\\nPurchase Department cost allocation\\nfor the month of Aug 23\\nFinance Charge is exempt as per article 54 of the Bahrain VAT Law\\nNet BHD Value : 102.000\\nBHD ONE HUNDRED AND TWELVE æFILS TWO HUNDRED ONLY Vat Amount : 10.200\\nTotal BHD Value : 112.200\\nThis document is system generated and doesn't require signature.\\n10S/LS:DItnemucoD\""
      ]
     },
     "execution_count": 68,
     "metadata": {},
     "output_type": "execute_result"
    }
   ],
   "source": [
    "text"
   ]
  },
  {
   "cell_type": "code",
   "execution_count": 69,
   "id": "4ea88954",
   "metadata": {},
   "outputs": [
    {
     "name": "stdout",
     "output_type": "stream",
     "text": [
      "['almoayyed@almoayyed.com', 'almoayyed@almoayyed.com', '+ 973 17211211', '+ 973 17211211', 'TAX INVOICE', 'CUSTOMER DETAILS DOCUMENT DETAILS', 'YOUSUF KHALIL ALMOAYYED & SONS PROPERTIES CO. W.L.Doc No 6081', 'Flat/Shop No. Flat 11, Building: 3,', 'Road/Street: 401, Date 31/08/23', 'Manama Center', 'Block: 304, Account K0040330', 'Kingdom of Bahrain', 'VAT No: 200011241300002', 'DESCRIPTION QTY UNIT PRICE NET AMOUNT V V% VAT AMOUNT TOTAL AMOUNT', '1 102.000 102.000 10 10.200 112.200', 'Purchase Department cost allocation', 'for the month of Aug 23', 'Finance Charge is exempt as per article 54 of the Bahrain VAT Law', 'Net BHD Value : 102.000', 'BHD ONE HUNDRED AND TWELVE æFILS TWO HUNDRED ONLY Vat Amount : 10.200', 'Total BHD Value : 112.200', \"This document is system generated and doesn't require signature.\", '10S/LS:DItnemucoD']\n"
     ]
    }
   ],
   "source": [
    "list_data = text.split('\\n')\n",
    "print(list_data)"
   ]
  },
  {
   "cell_type": "code",
   "execution_count": 80,
   "id": "b21b33b8",
   "metadata": {},
   "outputs": [
    {
     "name": "stdout",
     "output_type": "stream",
     "text": [
      "Date not found in the text.\n"
     ]
    }
   ],
   "source": [
    "# Regex pattern to extract the\n",
    "datepattern = r'\\bDate\\s+(\\d{2}/\\d{2}/\\d{2})\\b'# Find all matches of the pattern in the\n",
    "textmatches = re.findall(pattern, text) # Print the extracted date\n",
    "if matches:  \n",
    "    print(\"Extracted Date:\", matches[0])\n",
    "else:     \n",
    "    print(\"Date not found in the text.\")"
   ]
  },
  {
   "cell_type": "code",
   "execution_count": 76,
   "id": "4ea3b8dc",
   "metadata": {},
   "outputs": [
    {
     "ename": "TypeError",
     "evalue": "sub() missing 1 required positional argument: 'string'",
     "output_type": "error",
     "traceback": [
      "\u001b[1;31m---------------------------------------------------------------------------\u001b[0m",
      "\u001b[1;31mTypeError\u001b[0m                                 Traceback (most recent call last)",
      "Cell \u001b[1;32mIn[76], line 3\u001b[0m\n\u001b[0;32m      1\u001b[0m \u001b[38;5;28;01mimport\u001b[39;00m \u001b[38;5;21;01mre\u001b[39;00m\n\u001b[0;32m      2\u001b[0m \u001b[38;5;66;03m#newre = re.compile(r'A-Z a-z \\d{2}/|-\\d{2}/|-\\d{2}|d{4}')\u001b[39;00m\n\u001b[1;32m----> 3\u001b[0m newre\u001b[38;5;241m=\u001b[39mre\u001b[38;5;241m.\u001b[39msub(\u001b[38;5;124mr\u001b[39m\u001b[38;5;124m'\u001b[39m\u001b[38;5;124m\\\u001b[39m\u001b[38;5;124mb\u001b[39m\u001b[38;5;124m\\\u001b[39m\u001b[38;5;124md\u001b[39m\u001b[38;5;132;01m{2}\u001b[39;00m\u001b[38;5;124m/\u001b[39m\u001b[38;5;124m\\\u001b[39m\u001b[38;5;124md\u001b[39m\u001b[38;5;132;01m{2}\u001b[39;00m\u001b[38;5;124m/\u001b[39m\u001b[38;5;124m\\\u001b[39m\u001b[38;5;124md\u001b[39m\u001b[38;5;132;01m{2}\u001b[39;00m\u001b[38;5;124m\\\u001b[39m\u001b[38;5;124mb\u001b[39m\u001b[38;5;124m'\u001b[39m,text)\n",
      "\u001b[1;31mTypeError\u001b[0m: sub() missing 1 required positional argument: 'string'"
     ]
    }
   ],
   "source": [
    "import re\n",
    "#newre = re.compile(r'A-Z a-z \\d{2}/|-\\d{2}/|-\\d{2}|d{4}')\n",
    "newre=re.sub(r'\\b\\d{2}/\\d{2}/\\d{2}\\b',text)"
   ]
  },
  {
   "cell_type": "code",
   "execution_count": 71,
   "id": "2699f626",
   "metadata": {},
   "outputs": [],
   "source": [
    "for line in list_data:\n",
    "    if newre.match(line):\n",
    "        print(line)"
   ]
  },
  {
   "cell_type": "code",
   "execution_count": 72,
   "id": "e3460883",
   "metadata": {},
   "outputs": [
    {
     "data": {
      "text/plain": [
       "'10S/LS:DItnemucoD'"
      ]
     },
     "execution_count": 72,
     "metadata": {},
     "output_type": "execute_result"
    }
   ],
   "source": [
    "line"
   ]
  },
  {
   "cell_type": "code",
   "execution_count": 55,
   "id": "11b5351d",
   "metadata": {},
   "outputs": [],
   "source": [
    "for row in text.split('\\n'):\n",
    "    if row.startswith('Date'):\n",
    "        Date = row.split()[-1]"
   ]
  },
  {
   "cell_type": "code",
   "execution_count": 56,
   "id": "ac3bae66",
   "metadata": {},
   "outputs": [
    {
     "ename": "NameError",
     "evalue": "name 'Date' is not defined",
     "output_type": "error",
     "traceback": [
      "\u001b[1;31m---------------------------------------------------------------------------\u001b[0m",
      "\u001b[1;31mNameError\u001b[0m                                 Traceback (most recent call last)",
      "Cell \u001b[1;32mIn[56], line 1\u001b[0m\n\u001b[1;32m----> 1\u001b[0m Date\n",
      "\u001b[1;31mNameError\u001b[0m: name 'Date' is not defined"
     ]
    }
   ],
   "source": [
    "Date"
   ]
  },
  {
   "cell_type": "code",
   "execution_count": 46,
   "id": "b93359a3",
   "metadata": {},
   "outputs": [],
   "source": [
    "matches = [line for line in list_data if re.match(newre, line)]"
   ]
  },
  {
   "cell_type": "code",
   "execution_count": 47,
   "id": "7b80978f",
   "metadata": {},
   "outputs": [
    {
     "data": {
      "text/plain": [
       "[]"
      ]
     },
     "execution_count": 47,
     "metadata": {},
     "output_type": "execute_result"
    }
   ],
   "source": [
    "matches"
   ]
  },
  {
   "cell_type": "code",
   "execution_count": 62,
   "id": "49e7208e",
   "metadata": {},
   "outputs": [
    {
     "name": "stdout",
     "output_type": "stream",
     "text": [
      "Date: 31/08/23\n"
     ]
    }
   ],
   "source": [
    "import re\n",
    "\n",
    "# Sample text containing dates\n",
    "text = \"\"\"\n",
    "Date: 31 08 23\n",
    "\n",
    "\"\"\"\n",
    "\n",
    "# Regular expression pattern for mm dd yy format\n",
    "pattern = r\"\\b(\\d{2}) (\\d{2}) (\\d{2})\\b\"\n",
    "\n",
    "# Initialize an empty list to store dates\n",
    "dates = []\n",
    "\n",
    "# Iterate over each row in the text\n",
    "for row in text.split('\\n'):\n",
    "    # Check if the row starts with 'Date'\n",
    "    if row.startswith('Date'):\n",
    "        # Extract the date using regular expression\n",
    "        match = re.search(pattern, row)\n",
    "        if match:\n",
    "            # Extract and format the matched date\n",
    "            month, day, year = match.groups()\n",
    "            date = \"{}/{}/{}\".format(month, day, year)\n",
    "            # Append the formatted date to the list\n",
    "            dates.append(date)\n",
    "\n",
    "# Print the extracted dates\n",
    "for date in dates:\n",
    "    print(\"Date:\", date)\n"
   ]
  },
  {
   "cell_type": "code",
   "execution_count": 66,
   "id": "a6322ccb",
   "metadata": {},
   "outputs": [
    {
     "data": {
      "text/plain": [
       "['almoayyed@almoayyed.com',\n",
       " 'almoayyed@almoayyed.com',\n",
       " '+ 973 17211211',\n",
       " '+ 973 17211211',\n",
       " 'TAX INVOICE',\n",
       " 'CUSTOMER DETAILS DOCUMENT DETAILS',\n",
       " 'YOUSUF KHALIL ALMOAYYED & SONS PROPERTIES CO. W.L.Doc No 6081',\n",
       " 'Flat/Shop No. Flat 11, Building: 3,',\n",
       " 'Road/Street: 401, Date 31/08/23',\n",
       " 'Manama Center',\n",
       " 'Block: 304, Account K0040330',\n",
       " 'Kingdom of Bahrain',\n",
       " 'VAT No: 200011241300002',\n",
       " 'DESCRIPTION QTY UNIT PRICE NET AMOUNT V V% VAT AMOUNT TOTAL AMOUNT',\n",
       " '1 102.000 102.000 10 10.200 112.200',\n",
       " 'Purchase Department cost allocation',\n",
       " 'for the month of Aug 23',\n",
       " 'Finance Charge is exempt as per article 54 of the Bahrain VAT Law',\n",
       " 'Net BHD Value : 102.000',\n",
       " 'BHD ONE HUNDRED AND TWELVE æFILS TWO HUNDRED ONLY Vat Amount : 10.200',\n",
       " 'Total BHD Value : 112.200',\n",
       " \"This document is system generated and doesn't require signature.\",\n",
       " '10S/LS:DItnemucoD']"
      ]
     },
     "execution_count": 66,
     "metadata": {},
     "output_type": "execute_result"
    }
   ],
   "source": [
    "list_data"
   ]
  },
  {
   "cell_type": "code",
   "execution_count": 121,
   "id": "b1b3d4a7",
   "metadata": {},
   "outputs": [
    {
     "name": "stdout",
     "output_type": "stream",
     "text": [
      "[' 31/08/23']\n"
     ]
    }
   ],
   "source": [
    "pattern = r'\\s\\d{2}/\\d{2}/\\d{2}'\n",
    " \n",
    "# Find all matches of the pattern in the text\n",
    "date = re.findall(pattern, text)\n",
    "print(date)"
   ]
  },
  {
   "cell_type": "code",
   "execution_count": 85,
   "id": "f471cfac",
   "metadata": {},
   "outputs": [
    {
     "data": {
      "text/plain": [
       "\"almoayyed@almoayyed.com\\nalmoayyed@almoayyed.com\\n+ 973 17211211\\n+ 973 17211211\\nTAX INVOICE\\nCUSTOMER DETAILS DOCUMENT DETAILS\\nYOUSUF KHALIL ALMOAYYED & SONS PROPERTIES CO. W.L.Doc No 6081\\nFlat/Shop No. Flat 11, Building: 3,\\nRoad/Street: 401, Date 31/08/23\\nManama Center\\nBlock: 304, Account K0040330\\nKingdom of Bahrain\\nVAT No: 200011241300002\\nDESCRIPTION QTY UNIT PRICE NET AMOUNT V V% VAT AMOUNT TOTAL AMOUNT\\n1 102.000 102.000 10 10.200 112.200\\nPurchase Department cost allocation\\nfor the month of Aug 23\\nFinance Charge is exempt as per article 54 of the Bahrain VAT Law\\nNet BHD Value : 102.000\\nBHD ONE HUNDRED AND TWELVE æFILS TWO HUNDRED ONLY Vat Amount : 10.200\\nTotal BHD Value : 112.200\\nThis document is system generated and doesn't require signature.\\n10S/LS:DItnemucoD\""
      ]
     },
     "execution_count": 85,
     "metadata": {},
     "output_type": "execute_result"
    }
   ],
   "source": [
    "text\n"
   ]
  },
  {
   "cell_type": "code",
   "execution_count": 177,
   "id": "b97cecf2",
   "metadata": {},
   "outputs": [
    {
     "name": "stdout",
     "output_type": "stream",
     "text": [
      "['Purchase Department cost a', 'llocation\\nfor the m', 'Finance Charge is e', 'xempt as per a', 'This document is s', 'ystem generated and d']\n"
     ]
    }
   ],
   "source": [
    "import re\n",
    "pattern = r'[A-Za-z]+\\s+[A-Za-z]+\\s+[a-z]+\\s+[a-z]'\n",
    "\n",
    " \n",
    "# Find all matches of the pattern in the text\n",
    "matches = re.findall(pattern, text)\n",
    "print(matches)"
   ]
  },
  {
   "cell_type": "code",
   "execution_count": 193,
   "id": "58081d60",
   "metadata": {},
   "outputs": [
    {
     "name": "stdout",
     "output_type": "stream",
     "text": [
      "['No 6081']\n"
     ]
    }
   ],
   "source": [
    "pattern = r'[A-Za-z]+\\s\\d{4}'\n",
    " \n",
    "# Find all matches of the pattern in the text\n",
    "matches = re.findall(pattern, text)\n",
    "print(matches)"
   ]
  },
  {
   "cell_type": "code",
   "execution_count": 188,
   "id": "e03f7bfe",
   "metadata": {},
   "outputs": [
    {
     "name": "stdout",
     "output_type": "stream",
     "text": [
      "['VAT No: 200011241300002']\n"
     ]
    }
   ],
   "source": [
    "pattern = r'[A-Z]+\\s[A-Za-z]+:\\s+\\d{15}'\n",
    " \n",
    "# Find all matches of the pattern in the text\n",
    "s = re.findall(pattern, text)\n",
    "print(s)"
   ]
  },
  {
   "cell_type": "code",
   "execution_count": 103,
   "id": "638e4f82",
   "metadata": {},
   "outputs": [
    {
     "name": "stdout",
     "output_type": "stream",
     "text": [
      "['DESCRIPTION QTY UNIT PRICE NET AMOUNT V V% VAT AMOUNT TOTAL AMOUNT']\n"
     ]
    }
   ],
   "source": [
    "pattern = r'[A-Z]+\\s[A-Z]+\\s[A-Z]+\\s[A-Z]+\\s[A-Z]+\\s[A-Z]+\\s[A-Z]+\\s[A-Z]%+\\s[A-Z]+\\s[A-Z]+\\s[A-Z]+\\s[A-Z].*'\n",
    " \n",
    "# Find all matches of the pattern in the text\n",
    "matches = re.findall(pattern, text)\n",
    "print(matches)"
   ]
  },
  {
   "cell_type": "code",
   "execution_count": 184,
   "id": "6c60fa84",
   "metadata": {},
   "outputs": [
    {
     "data": {
      "text/plain": [
       "['Purchase Department cost allocation for the month of Aug 23']"
      ]
     },
     "execution_count": 184,
     "metadata": {},
     "output_type": "execute_result"
    }
   ],
   "source": [
    "#pattern = r'[A-Za-z]+\\s[A-Za-z]+\\s[a-z]+\\s[a-z]'\n",
    "#pattern = r'[A-Za-z]\\s+[A-Za-z]\\s+[a-z]\\s+\\w{10}'\n",
    "pattern = r'[A-Za-z]+\\s+[A-Za-z]+\\s+[a-z]+\\s+[a-z]{10}'\n",
    "# Find all matches of the pattern in the text Purchase Department cost allocation\n",
    "matches = re.findall(pattern, text)\n",
    "modified_matches = [match + \" for the month of Aug 23\" for match in matches]\n",
    "modified_matches"
   ]
  },
  {
   "cell_type": "code",
   "execution_count": 132,
   "id": "31f92841",
   "metadata": {},
   "outputs": [
    {
     "name": "stdout",
     "output_type": "stream",
     "text": [
      "['1 102.000 102.000 10 10.200 112.200']\n"
     ]
    }
   ],
   "source": [
    "pattern = r'\\d{1}+\\s\\d{3}\\.\\d{3}+\\s\\d{3}\\.\\d{3}+\\s\\d{2}+\\s\\d{2}\\.\\d{3}+\\s\\d{3}\\.\\d{3}'\n",
    "\n",
    "# Find all matches of the pattern in the text 1 102.000 102.000 10 10.200 112.200\n",
    "matches = re.findall(pattern, text)\n",
    "print(matches)"
   ]
  },
  {
   "cell_type": "code",
   "execution_count": 140,
   "id": "16d412fe",
   "metadata": {},
   "outputs": [],
   "source": [
    "sp=[]\n",
    "for i in matches:\n",
    "    sp.append(i.split())"
   ]
  },
  {
   "cell_type": "code",
   "execution_count": 141,
   "id": "d59994ac",
   "metadata": {},
   "outputs": [
    {
     "data": {
      "text/plain": [
       "[['1', '102.000', '102.000', '10', '10.200', '112.200']]"
      ]
     },
     "execution_count": 141,
     "metadata": {},
     "output_type": "execute_result"
    }
   ],
   "source": [
    "sp"
   ]
  },
  {
   "cell_type": "code",
   "execution_count": 146,
   "id": "c3e0e211",
   "metadata": {},
   "outputs": [],
   "source": [
    "date.extend(sp)"
   ]
  },
  {
   "cell_type": "code",
   "execution_count": 147,
   "id": "e9dbc851",
   "metadata": {},
   "outputs": [
    {
     "name": "stdout",
     "output_type": "stream",
     "text": [
      "[['1', '102.000', '102.000', '10', '10.200', '112.200'], ' 31/08/23']\n"
     ]
    }
   ],
   "source": [
    "print(sp)"
   ]
  },
  {
   "cell_type": "code",
   "execution_count": 148,
   "id": "0d6ca440",
   "metadata": {},
   "outputs": [],
   "source": [
    "from collections import namedtuple"
   ]
  },
  {
   "cell_type": "code",
   "execution_count": 156,
   "id": "fd916b38",
   "metadata": {},
   "outputs": [],
   "source": [
    "Inv = namedtuple('Inv', 'QTY UNIT_PRICE NET_AMOUNT V_V VAT_AMOUNT TOTAL_AMOUNT DATE')  #this line for creating dataframe header\n",
    " "
   ]
  },
  {
   "cell_type": "code",
   "execution_count": 157,
   "id": "fec983f2",
   "metadata": {},
   "outputs": [
    {
     "ename": "ValueError",
     "evalue": "7 columns passed, passed data had 9 columns",
     "output_type": "error",
     "traceback": [
      "\u001b[1;31m---------------------------------------------------------------------------\u001b[0m",
      "\u001b[1;31mAssertionError\u001b[0m                            Traceback (most recent call last)",
      "File \u001b[1;32m~\\anaconda3\\Lib\\site-packages\\pandas\\core\\internals\\construction.py:969\u001b[0m, in \u001b[0;36m_finalize_columns_and_data\u001b[1;34m(content, columns, dtype)\u001b[0m\n\u001b[0;32m    968\u001b[0m \u001b[38;5;28;01mtry\u001b[39;00m:\n\u001b[1;32m--> 969\u001b[0m     columns \u001b[38;5;241m=\u001b[39m _validate_or_indexify_columns(contents, columns)\n\u001b[0;32m    970\u001b[0m \u001b[38;5;28;01mexcept\u001b[39;00m \u001b[38;5;167;01mAssertionError\u001b[39;00m \u001b[38;5;28;01mas\u001b[39;00m err:\n\u001b[0;32m    971\u001b[0m     \u001b[38;5;66;03m# GH#26429 do not raise user-facing AssertionError\u001b[39;00m\n",
      "File \u001b[1;32m~\\anaconda3\\Lib\\site-packages\\pandas\\core\\internals\\construction.py:1017\u001b[0m, in \u001b[0;36m_validate_or_indexify_columns\u001b[1;34m(content, columns)\u001b[0m\n\u001b[0;32m   1015\u001b[0m \u001b[38;5;28;01mif\u001b[39;00m \u001b[38;5;129;01mnot\u001b[39;00m is_mi_list \u001b[38;5;129;01mand\u001b[39;00m \u001b[38;5;28mlen\u001b[39m(columns) \u001b[38;5;241m!=\u001b[39m \u001b[38;5;28mlen\u001b[39m(content):  \u001b[38;5;66;03m# pragma: no cover\u001b[39;00m\n\u001b[0;32m   1016\u001b[0m     \u001b[38;5;66;03m# caller's responsibility to check for this...\u001b[39;00m\n\u001b[1;32m-> 1017\u001b[0m     \u001b[38;5;28;01mraise\u001b[39;00m \u001b[38;5;167;01mAssertionError\u001b[39;00m(\n\u001b[0;32m   1018\u001b[0m         \u001b[38;5;124mf\u001b[39m\u001b[38;5;124m\"\u001b[39m\u001b[38;5;132;01m{\u001b[39;00m\u001b[38;5;28mlen\u001b[39m(columns)\u001b[38;5;132;01m}\u001b[39;00m\u001b[38;5;124m columns passed, passed data had \u001b[39m\u001b[38;5;124m\"\u001b[39m\n\u001b[0;32m   1019\u001b[0m         \u001b[38;5;124mf\u001b[39m\u001b[38;5;124m\"\u001b[39m\u001b[38;5;132;01m{\u001b[39;00m\u001b[38;5;28mlen\u001b[39m(content)\u001b[38;5;132;01m}\u001b[39;00m\u001b[38;5;124m columns\u001b[39m\u001b[38;5;124m\"\u001b[39m\n\u001b[0;32m   1020\u001b[0m     )\n\u001b[0;32m   1021\u001b[0m \u001b[38;5;28;01melif\u001b[39;00m is_mi_list:\n\u001b[0;32m   1022\u001b[0m \n\u001b[0;32m   1023\u001b[0m     \u001b[38;5;66;03m# check if nested list column, length of each sub-list should be equal\u001b[39;00m\n",
      "\u001b[1;31mAssertionError\u001b[0m: 7 columns passed, passed data had 9 columns",
      "\nThe above exception was the direct cause of the following exception:\n",
      "\u001b[1;31mValueError\u001b[0m                                Traceback (most recent call last)",
      "Cell \u001b[1;32mIn[157], line 11\u001b[0m\n\u001b[0;32m      8\u001b[0m data \u001b[38;5;241m=\u001b[39m [sp]\n\u001b[0;32m     10\u001b[0m \u001b[38;5;66;03m# Create the DataFrame\u001b[39;00m\n\u001b[1;32m---> 11\u001b[0m df \u001b[38;5;241m=\u001b[39m pd\u001b[38;5;241m.\u001b[39mDataFrame(sp, columns\u001b[38;5;241m=\u001b[39mInv\u001b[38;5;241m.\u001b[39m_fields)\n\u001b[0;32m     13\u001b[0m \u001b[38;5;28mprint\u001b[39m(df)\n",
      "File \u001b[1;32m~\\anaconda3\\Lib\\site-packages\\pandas\\core\\frame.py:746\u001b[0m, in \u001b[0;36mDataFrame.__init__\u001b[1;34m(self, data, index, columns, dtype, copy)\u001b[0m\n\u001b[0;32m    744\u001b[0m     \u001b[38;5;28;01mif\u001b[39;00m columns \u001b[38;5;129;01mis\u001b[39;00m \u001b[38;5;129;01mnot\u001b[39;00m \u001b[38;5;28;01mNone\u001b[39;00m:\n\u001b[0;32m    745\u001b[0m         columns \u001b[38;5;241m=\u001b[39m ensure_index(columns)\n\u001b[1;32m--> 746\u001b[0m     arrays, columns, index \u001b[38;5;241m=\u001b[39m nested_data_to_arrays(\n\u001b[0;32m    747\u001b[0m         \u001b[38;5;66;03m# error: Argument 3 to \"nested_data_to_arrays\" has incompatible\u001b[39;00m\n\u001b[0;32m    748\u001b[0m         \u001b[38;5;66;03m# type \"Optional[Collection[Any]]\"; expected \"Optional[Index]\"\u001b[39;00m\n\u001b[0;32m    749\u001b[0m         data,\n\u001b[0;32m    750\u001b[0m         columns,\n\u001b[0;32m    751\u001b[0m         index,  \u001b[38;5;66;03m# type: ignore[arg-type]\u001b[39;00m\n\u001b[0;32m    752\u001b[0m         dtype,\n\u001b[0;32m    753\u001b[0m     )\n\u001b[0;32m    754\u001b[0m     mgr \u001b[38;5;241m=\u001b[39m arrays_to_mgr(\n\u001b[0;32m    755\u001b[0m         arrays,\n\u001b[0;32m    756\u001b[0m         columns,\n\u001b[1;32m   (...)\u001b[0m\n\u001b[0;32m    759\u001b[0m         typ\u001b[38;5;241m=\u001b[39mmanager,\n\u001b[0;32m    760\u001b[0m     )\n\u001b[0;32m    761\u001b[0m \u001b[38;5;28;01melse\u001b[39;00m:\n",
      "File \u001b[1;32m~\\anaconda3\\Lib\\site-packages\\pandas\\core\\internals\\construction.py:510\u001b[0m, in \u001b[0;36mnested_data_to_arrays\u001b[1;34m(data, columns, index, dtype)\u001b[0m\n\u001b[0;32m    507\u001b[0m \u001b[38;5;28;01mif\u001b[39;00m is_named_tuple(data[\u001b[38;5;241m0\u001b[39m]) \u001b[38;5;129;01mand\u001b[39;00m columns \u001b[38;5;129;01mis\u001b[39;00m \u001b[38;5;28;01mNone\u001b[39;00m:\n\u001b[0;32m    508\u001b[0m     columns \u001b[38;5;241m=\u001b[39m ensure_index(data[\u001b[38;5;241m0\u001b[39m]\u001b[38;5;241m.\u001b[39m_fields)\n\u001b[1;32m--> 510\u001b[0m arrays, columns \u001b[38;5;241m=\u001b[39m to_arrays(data, columns, dtype\u001b[38;5;241m=\u001b[39mdtype)\n\u001b[0;32m    511\u001b[0m columns \u001b[38;5;241m=\u001b[39m ensure_index(columns)\n\u001b[0;32m    513\u001b[0m \u001b[38;5;28;01mif\u001b[39;00m index \u001b[38;5;129;01mis\u001b[39;00m \u001b[38;5;28;01mNone\u001b[39;00m:\n",
      "File \u001b[1;32m~\\anaconda3\\Lib\\site-packages\\pandas\\core\\internals\\construction.py:875\u001b[0m, in \u001b[0;36mto_arrays\u001b[1;34m(data, columns, dtype)\u001b[0m\n\u001b[0;32m    872\u001b[0m     data \u001b[38;5;241m=\u001b[39m [\u001b[38;5;28mtuple\u001b[39m(x) \u001b[38;5;28;01mfor\u001b[39;00m x \u001b[38;5;129;01min\u001b[39;00m data]\n\u001b[0;32m    873\u001b[0m     arr \u001b[38;5;241m=\u001b[39m _list_to_arrays(data)\n\u001b[1;32m--> 875\u001b[0m content, columns \u001b[38;5;241m=\u001b[39m _finalize_columns_and_data(arr, columns, dtype)\n\u001b[0;32m    876\u001b[0m \u001b[38;5;28;01mreturn\u001b[39;00m content, columns\n",
      "File \u001b[1;32m~\\anaconda3\\Lib\\site-packages\\pandas\\core\\internals\\construction.py:972\u001b[0m, in \u001b[0;36m_finalize_columns_and_data\u001b[1;34m(content, columns, dtype)\u001b[0m\n\u001b[0;32m    969\u001b[0m     columns \u001b[38;5;241m=\u001b[39m _validate_or_indexify_columns(contents, columns)\n\u001b[0;32m    970\u001b[0m \u001b[38;5;28;01mexcept\u001b[39;00m \u001b[38;5;167;01mAssertionError\u001b[39;00m \u001b[38;5;28;01mas\u001b[39;00m err:\n\u001b[0;32m    971\u001b[0m     \u001b[38;5;66;03m# GH#26429 do not raise user-facing AssertionError\u001b[39;00m\n\u001b[1;32m--> 972\u001b[0m     \u001b[38;5;28;01mraise\u001b[39;00m \u001b[38;5;167;01mValueError\u001b[39;00m(err) \u001b[38;5;28;01mfrom\u001b[39;00m \u001b[38;5;21;01merr\u001b[39;00m\n\u001b[0;32m    974\u001b[0m \u001b[38;5;28;01mif\u001b[39;00m \u001b[38;5;28mlen\u001b[39m(contents) \u001b[38;5;129;01mand\u001b[39;00m contents[\u001b[38;5;241m0\u001b[39m]\u001b[38;5;241m.\u001b[39mdtype \u001b[38;5;241m==\u001b[39m np\u001b[38;5;241m.\u001b[39mobject_:\n\u001b[0;32m    975\u001b[0m     contents \u001b[38;5;241m=\u001b[39m _convert_object_array(contents, dtype\u001b[38;5;241m=\u001b[39mdtype)\n",
      "\u001b[1;31mValueError\u001b[0m: 7 columns passed, passed data had 9 columns"
     ]
    }
   ],
   "source": [
    "import pandas as pd\n",
    "from collections import namedtuple\n",
    "\n",
    "# Define the namedtuple\n",
    "Inv = namedtuple('Inv', 'QTY UNIT_PRICE NET_AMOUNT V_Vpercent VAT_AMOUNT TOTAL_AMOUNT DATE')\n",
    "\n",
    "# Create a list of lists, each list represents a row\n",
    "data = [sp]\n",
    "\n",
    "# Create the DataFrame\n",
    "df = pd.DataFrame(sp, columns=Inv._fields)\n",
    "\n",
    "print(df)\n"
   ]
  },
  {
   "cell_type": "code",
   "execution_count": 158,
   "id": "bbe88784",
   "metadata": {},
   "outputs": [
    {
     "name": "stdout",
     "output_type": "stream",
     "text": [
      "  QTY UNIT_PRICE NET_AMOUNT V_Vpercent VAT_AMOUNT TOTAL_AMOUNT      DATE\n",
      "0   1    102.000    102.000         10     10.200      112.200  31/08/23\n"
     ]
    }
   ],
   "source": [
    "import pandas as pd\n",
    "from collections import namedtuple\n",
    "\n",
    "# Define the namedtuple\n",
    "Inv = namedtuple('Inv', 'QTY UNIT_PRICE NET_AMOUNT V_Vpercent VAT_AMOUNT TOTAL_AMOUNT DATE')\n",
    "\n",
    "# Separate the date from the main data\n",
    "main_data = ['1', '102.000', '102.000', '10', '10.200', '112.200']\n",
    "date = '31/08/23'\n",
    "\n",
    "# Create the DataFrame with the date as an additional column\n",
    "df = pd.DataFrame([main_data + [date]], columns=Inv._fields)\n",
    "\n",
    "print(df)\n"
   ]
  },
  {
   "cell_type": "code",
   "execution_count": 191,
   "id": "5fb2604d",
   "metadata": {},
   "outputs": [
    {
     "name": "stdout",
     "output_type": "stream",
     "text": [
      "  DOC_NUMBER                                        DESCRIPTION QTY  \\\n",
      "0       6081  Purchase Department cost allocation for the mo...   1   \n",
      "\n",
      "  UNIT_PRICE NET_AMOUNT V_Vpercent VAT_AMOUNT TOTAL_AMOUNT      DATE  \n",
      "0    102.000    102.000         10     10.200      112.200  31/08/23  \n"
     ]
    }
   ],
   "source": [
    "import pandas as pd\n",
    "from collections import namedtuple\n",
    "\n",
    "# Define the namedtuple\n",
    "Inv = namedtuple('Inv', 'DOC_NUMBER DESCRIPTION QTY UNIT_PRICE NET_AMOUNT V_Vpercent VAT_AMOUNT TOTAL_AMOUNT DATE')\n",
    "\n",
    "# Assuming `sp` contains both the main data and the date\n",
    "sp = [['1', '102.000', '102.000', '10', '10.200', '112.200'], '31/08/23']\n",
    "\n",
    "# Extract the main data and date\n",
    "main_data = sp[0]\n",
    "date = sp[1]\n",
    "\n",
    "# Create modified matches as description\n",
    "modified_matches = [match + \" for the month of Aug 23\" for match in matches]\n",
    "\n",
    "# Add DOC_NUMBER as 6081 and modify main data to include description and DOC_NUMBER\n",
    "main_data_with_description = ['6081'] + modified_matches + main_data\n",
    "\n",
    "# Create the DataFrame with the date as an additional column\n",
    "df = pd.DataFrame([main_data_with_description + [date]], columns=Inv._fields)\n",
    "\n",
    "print(df)\n"
   ]
  },
  {
   "cell_type": "code",
   "execution_count": null,
   "id": "3ea9e17c",
   "metadata": {},
   "outputs": [],
   "source": []
  }
 ],
 "metadata": {
  "kernelspec": {
   "display_name": "Python 3 (ipykernel)",
   "language": "python",
   "name": "python3"
  },
  "language_info": {
   "codemirror_mode": {
    "name": "ipython",
    "version": 3
   },
   "file_extension": ".py",
   "mimetype": "text/x-python",
   "name": "python",
   "nbconvert_exporter": "python",
   "pygments_lexer": "ipython3",
   "version": "3.11.4"
  }
 },
 "nbformat": 4,
 "nbformat_minor": 5
}
