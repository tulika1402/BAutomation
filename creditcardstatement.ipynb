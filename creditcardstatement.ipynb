{
 "cells": [
  {
   "cell_type": "code",
   "execution_count": 2,
   "id": "8fc32161",
   "metadata": {},
   "outputs": [
    {
     "name": "stdout",
     "output_type": "stream",
     "text": [
      "  PostingDate    Txn_Date  Terminal Batch  Seq           Card_No Type  \\\n",
      "0  01/30/2024  01/30/2024  17934120    88  892  559592xxxxxx3289   CR   \n",
      "1  01/30/2024  01/30/2024  17934120    89  894  537882xxxxxx2997   CR   \n",
      "2  01/30/2024  01/30/2024  17934120    90  896  484083xxxxxx8141   CR   \n",
      "3  01/30/2024  01/30/2024  17934130   128  452  552107xxxxxx3861   CR   \n",
      "4  01/30/2024  01/30/2024  17934130   128  453  552107xxxxxx3861   CR   \n",
      "\n",
      "  Txn_Amount Com_Amount Vat_Amount Net_Amount Cback_Amount  \n",
      "0    210.000      2.730      0.273    206.997        0.000  \n",
      "1    190.000      2.470      0.247    187.283        0.000  \n",
      "2    250.000      3.250      0.325    246.425        0.000  \n",
      "3     88.000      1.144      0.114     86.742        0.000  \n",
      "4     88.000      1.144      0.114     86.742        0.000  \n"
     ]
    }
   ],
   "source": [
    "import pandas as pd\n",
    "import pdfplumber\n",
    "import re\n",
    "from collections import namedtuple\n",
    "# Open the PDF file\n",
    "with pdfplumber.open(\"C://Users/91947/OneDrive/Desktop/parser/credit card statement.PDF\") as pdf: \n",
    "    first_page = pdf.pages[0]\n",
    " \n",
    "    # Extract text from the first page\n",
    "    text = first_page.extract_text()\n",
    "# Add space after \"01/30/2024\" followed by \"01/30/2024\"\n",
    "text = re.sub(r'(\\d{2}/\\d{2}/\\d{4}\\s\\d{2}/\\d{2}/\\d{4})', r'\\1 ', text)\n",
    " \n",
    "# Add space between \"452\" and \"552107xxxxxx3861\"\n",
    "text = re.sub(r'(\\d{2}/\\d{2}/\\d{4}\\s\\d{2}/\\d{2}/\\d{4}\\s\\d{8}\\s(\\d{3}\\s|\\d{2}\\s)\\d{3})', r'\\1 ', text)\n",
    " \n",
    "list_data = text.split('\\n')\n",
    " \n",
    "pattern = r'\\d{2}/\\d{2}/\\d{4}\\s\\d{2}/\\d{2}/\\d{4}\\s\\d{8}'\n",
    " \n",
    "matches = [line for line in list_data if re.match(pattern, line)]\n",
    " \n",
    "d1=[]\n",
    "d2=[]\n",
    "d3=[]\n",
    "d4=[]\n",
    "d5=[]\n",
    "d6=[]\n",
    "d7=[]\n",
    "d8=[]\n",
    "d9=[]\n",
    "d10=[]\n",
    "d11=[]\n",
    "d12=[]\n",
    " \n",
    "for data in matches:\n",
    "    single_data = data.split()\n",
    "    d1.append(single_data[0])\n",
    "    d2.append(single_data[1])\n",
    "    d3.append(single_data[2])\n",
    "    d4.append(single_data[3])\n",
    "    d5.append(single_data[4])\n",
    "    d6.append(single_data[5])\n",
    "    d7.append(single_data[6])\n",
    "    d8.append(single_data[7])\n",
    "    d9.append(single_data[8])\n",
    "    d10.append(single_data[9])\n",
    "    d11.append(single_data[10])\n",
    "    d12.append(single_data[11])\n",
    " \n",
    "Inv = namedtuple('Inv', 'PostingDate Txn_Date Terminal Batch Seq Card_No Type Txn_Amount Com_Amount Vat_Amount Net_Amount Cback_Amount')  #this line for creating dataframe header\n",
    " \n",
    "# Create a list of namedtuple objects\n",
    "data = [Inv(*row) for row in zip(d1, d2, d3, d4, d5, d6, d7, d8, d9, d10, d11, d12)]\n",
    " \n",
    "# Create DataFrame\n",
    "df = pd.DataFrame(data)\n",
    " \n",
    "# Display DataFrame\n",
    "print(df)"
   ]
  },
  {
   "cell_type": "code",
   "execution_count": 3,
   "id": "09303ad0",
   "metadata": {},
   "outputs": [
    {
     "name": "stdout",
     "output_type": "stream",
     "text": [
      "Merchant Code: 000017934199\n"
     ]
    }
   ],
   "source": [
    "import re\n",
    "\n",
    "# Your string\n",
    "s = \"Merchant Code : 000017934199\"\n",
    "# Regular expression pattern\n",
    "pattern = r\"Merchant Code : (\\d+)\"\n",
    "\n",
    "# Find matches\n",
    "matches = re.findall(pattern, s)\n",
    "\n",
    "# Print matches\n",
    "for match in matches:\n",
    "    print(f\"Merchant Code: {match}\")"
   ]
  },
  {
   "cell_type": "code",
   "execution_count": 4,
   "id": "3a2304bf",
   "metadata": {},
   "outputs": [
    {
     "name": "stdout",
     "output_type": "stream",
     "text": [
      "Merchant Name: YUSUF KHALIL ALMOAYED AND SONS\n"
     ]
    }
   ],
   "source": [
    "\n",
    "# Define the regex pattern\n",
    "pattern = r'^(\\b\\w+\\b\\s){4}\\b\\w+\\b$'\n",
    "\n",
    "# Test the pattern\n",
    "merchant_name = \"YUSUF KHALIL ALMOAYED AND SONS\"\n",
    "match = re.match(pattern, merchant_name)\n",
    "\n",
    "if match:\n",
    "    print(\"Merchant Name:\", merchant_name)"
   ]
  },
  {
   "cell_type": "code",
   "execution_count": 3,
   "id": "29bd08d8",
   "metadata": {},
   "outputs": [
    {
     "name": "stdout",
     "output_type": "stream",
     "text": [
      "  PostingDate    Txn_Date  Terminal Batch  Seq           Card_No Type  \\\n",
      "0  01/30/2024  01/30/2024  17934120    88  892  559592xxxxxx3289   CR   \n",
      "1  01/30/2024  01/30/2024  17934120    89  894  537882xxxxxx2997   CR   \n",
      "2  01/30/2024  01/30/2024  17934120    90  896  484083xxxxxx8141   CR   \n",
      "3  01/30/2024  01/30/2024  17934130   128  452  552107xxxxxx3861   CR   \n",
      "4  01/30/2024  01/30/2024  17934130   128  453  552107xxxxxx3861   CR   \n",
      "\n",
      "  Txn_Amount Com_Amount Vat_Amount Net_Amount Cback_Amount  \n",
      "0    210.000      2.730      0.273    206.997        0.000  \n",
      "1    190.000      2.470      0.247    187.283        0.000  \n",
      "2    250.000      3.250      0.325    246.425        0.000  \n",
      "3     88.000      1.144      0.114     86.742        0.000  \n",
      "4     88.000      1.144      0.114     86.742        0.000  \n"
     ]
    }
   ],
   "source": [
    "import pandas as pd\n",
    "import pdfplumber\n",
    "import re\n",
    "from collections import namedtuple\n",
    "# Open the PDF file\n",
    "with pdfplumber.open(\"C://Users/91947/OneDrive/Desktop/parser/credit card statement.PDF\") as pdf:   #replace your actual file with path\n",
    "    # Get the first page\n",
    "    first_page = pdf.pages[0]\n",
    " \n",
    "    # Extract text from the first page\n",
    "    text = first_page.extract_text()\n",
    "# Add space after \"01/30/2024\" followed by \"01/30/2024\"\n",
    "text = re.sub(r'(\\d{2}/\\d{2}/\\d{4}\\s\\d{2}/\\d{2}/\\d{4})', r'\\1 ', text)\n",
    " \n",
    "# Add space between \"452\" and \"552107xxxxxx3861\"\n",
    "text = re.sub(r'(\\d{2}/\\d{2}/\\d{4}\\s\\d{2}/\\d{2}/\\d{4}\\s\\d{8}\\s(\\d{3}\\s|\\d{2}\\s)\\d{3})', r'\\1 ', text)\n",
    " \n",
    "list_data = text.split('\\n')\n",
    " \n",
    "pattern = r'\\d{2}/\\d{2}/\\d{4}\\s\\d{2}/\\d{2}/\\d{4}\\s\\d{8}'\n",
    " \n",
    "matches = [line for line in list_data if re.match(pattern, line)]\n",
    " \n",
    "d1=[]\n",
    "d2=[]\n",
    "d3=[]\n",
    "d4=[]\n",
    "d5=[]\n",
    "d6=[]\n",
    "d7=[]\n",
    "d8=[]\n",
    "d9=[]\n",
    "d10=[]\n",
    "d11=[]\n",
    "d12=[]\n",
    " \n",
    "for data in matches:\n",
    "    single_data = data.split()\n",
    "    d1.append(single_data[0])\n",
    "    d2.append(single_data[1])\n",
    "    d3.append(single_data[2])\n",
    "    d4.append(single_data[3])\n",
    "    d5.append(single_data[4])\n",
    "    d6.append(single_data[5])\n",
    "    d7.append(single_data[6])\n",
    "    d8.append(single_data[7])\n",
    "    d9.append(single_data[8])\n",
    "    d10.append(single_data[9])\n",
    "    d11.append(single_data[10])\n",
    "    d12.append(single_data[11])\n",
    " \n",
    "Inv = namedtuple('Inv', 'PostingDate Txn_Date Terminal Batch Seq Card_No Type Txn_Amount Com_Amount Vat_Amount Net_Amount Cback_Amount')  #this line for creating dataframe header\n",
    " \n",
    "# Create a list of namedtuple objects\n",
    "data = [Inv(*row) for row in zip(d1, d2, d3, d4, d5, d6, d7, d8, d9, d10, d11, d12)]\n",
    " \n",
    "# Create DataFrame\n",
    "df = pd.DataFrame(data)\n",
    " \n",
    "# Display DataFrame\n",
    "print(df)"
   ]
  },
  {
   "cell_type": "code",
   "execution_count": null,
   "id": "fa22d4e9",
   "metadata": {},
   "outputs": [],
   "source": []
  }
 ],
 "metadata": {
  "kernelspec": {
   "display_name": "Python 3 (ipykernel)",
   "language": "python",
   "name": "python3"
  },
  "language_info": {
   "codemirror_mode": {
    "name": "ipython",
    "version": 3
   },
   "file_extension": ".py",
   "mimetype": "text/x-python",
   "name": "python",
   "nbconvert_exporter": "python",
   "pygments_lexer": "ipython3",
   "version": "3.11.4"
  }
 },
 "nbformat": 4,
 "nbformat_minor": 5
}
